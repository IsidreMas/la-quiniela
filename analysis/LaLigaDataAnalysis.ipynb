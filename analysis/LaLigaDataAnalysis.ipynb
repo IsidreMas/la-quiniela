{
 "cells": [
  {
   "cell_type": "markdown",
   "id": "6ba8512f",
   "metadata": {},
   "source": [
    "# LaLiga Data Analysis"
   ]
  },
  {
   "cell_type": "code",
   "execution_count": 94,
   "id": "40bf3403",
   "metadata": {},
   "outputs": [
    {
     "data": {
      "text/html": [
       "<div>\n",
       "<style scoped>\n",
       "    .dataframe tbody tr th:only-of-type {\n",
       "        vertical-align: middle;\n",
       "    }\n",
       "\n",
       "    .dataframe tbody tr th {\n",
       "        vertical-align: top;\n",
       "    }\n",
       "\n",
       "    .dataframe thead th {\n",
       "        text-align: right;\n",
       "    }\n",
       "</style>\n",
       "<table border=\"1\" class=\"dataframe\">\n",
       "  <thead>\n",
       "    <tr style=\"text-align: right;\">\n",
       "      <th></th>\n",
       "      <th>season</th>\n",
       "      <th>division</th>\n",
       "      <th>matchday</th>\n",
       "      <th>date</th>\n",
       "      <th>time</th>\n",
       "      <th>home_team</th>\n",
       "      <th>away_team</th>\n",
       "      <th>score</th>\n",
       "    </tr>\n",
       "  </thead>\n",
       "  <tbody>\n",
       "    <tr>\n",
       "      <th>0</th>\n",
       "      <td>1928-1929</td>\n",
       "      <td>1</td>\n",
       "      <td>1</td>\n",
       "      <td>2/10/29</td>\n",
       "      <td>None</td>\n",
       "      <td>Arenas Club</td>\n",
       "      <td>Athletic Madrid</td>\n",
       "      <td>2:3</td>\n",
       "    </tr>\n",
       "    <tr>\n",
       "      <th>1</th>\n",
       "      <td>1928-1929</td>\n",
       "      <td>1</td>\n",
       "      <td>1</td>\n",
       "      <td>2/10/29</td>\n",
       "      <td>None</td>\n",
       "      <td>Espanyol</td>\n",
       "      <td>Real Unión</td>\n",
       "      <td>3:2</td>\n",
       "    </tr>\n",
       "    <tr>\n",
       "      <th>2</th>\n",
       "      <td>1928-1929</td>\n",
       "      <td>1</td>\n",
       "      <td>1</td>\n",
       "      <td>2/10/29</td>\n",
       "      <td>None</td>\n",
       "      <td>Real Madrid</td>\n",
       "      <td>Catalunya</td>\n",
       "      <td>5:0</td>\n",
       "    </tr>\n",
       "    <tr>\n",
       "      <th>3</th>\n",
       "      <td>1928-1929</td>\n",
       "      <td>1</td>\n",
       "      <td>1</td>\n",
       "      <td>2/10/29</td>\n",
       "      <td>None</td>\n",
       "      <td>Donostia</td>\n",
       "      <td>Athletic</td>\n",
       "      <td>1:1</td>\n",
       "    </tr>\n",
       "    <tr>\n",
       "      <th>4</th>\n",
       "      <td>1928-1929</td>\n",
       "      <td>1</td>\n",
       "      <td>1</td>\n",
       "      <td>2/12/29</td>\n",
       "      <td>None</td>\n",
       "      <td>Racing</td>\n",
       "      <td>Barcelona</td>\n",
       "      <td>0:2</td>\n",
       "    </tr>\n",
       "  </tbody>\n",
       "</table>\n",
       "</div>"
      ],
      "text/plain": [
       "      season  division  matchday     date  time    home_team        away_team  \\\n",
       "0  1928-1929         1         1  2/10/29  None  Arenas Club  Athletic Madrid   \n",
       "1  1928-1929         1         1  2/10/29  None     Espanyol       Real Unión   \n",
       "2  1928-1929         1         1  2/10/29  None  Real Madrid        Catalunya   \n",
       "3  1928-1929         1         1  2/10/29  None     Donostia         Athletic   \n",
       "4  1928-1929         1         1  2/12/29  None       Racing        Barcelona   \n",
       "\n",
       "  score  \n",
       "0   2:3  \n",
       "1   3:2  \n",
       "2   5:0  \n",
       "3   1:1  \n",
       "4   0:2  "
      ]
     },
     "execution_count": 94,
     "metadata": {},
     "output_type": "execute_result"
    }
   ],
   "source": [
    "import pandas as pd\n",
    "import sqlite3\n",
    "from matplotlib import pyplot as plt\n",
    "with sqlite3.connect(\"../laliga.sqlite\") as conn:\n",
    "    df = pd.read_sql(\"SELECT * FROM Matches\", conn)\n",
    "\n",
    "df.head()"
   ]
  },
  {
   "cell_type": "markdown",
   "id": "7dac1fb4",
   "metadata": {},
   "source": [
    "## Exercise 1\n",
    "Is it true that the home team is more likely to win? Make a pie chart showing the result distribution (whether home team wins, visitor team wins, or there’s a tie) of all matches in the data. Write in the plot the percentage of each category."
   ]
  },
  {
   "cell_type": "code",
   "execution_count": 64,
   "id": "99edde62",
   "metadata": {},
   "outputs": [
    {
     "data": {
      "image/png": "[encoded data removed]",
      "text/plain": [
       "<Figure size 450x450 with 1 Axes>"
      ]
     },
     "metadata": {},
     "output_type": "display_data"
    }
   ],
   "source": [
    "def score_comparison(result):\n",
    "    if(isinstance(result, str)):\n",
    "        score = result.split(\":\")\n",
    "        if(score[0]==score[1]):\n",
    "            return \"Tie\"\n",
    "        elif(score[0]>score[1]):\n",
    "            return \"Home\"\n",
    "        else:\n",
    "            return \"Visitor\"\n",
    "    else:\n",
    "        return result\n",
    "\n",
    "df['winner_team'] = df.apply(lambda row: score_comparison(row.score), axis=1)\n",
    "\n",
    "fig1, ax1 = plt.subplots(figsize=(3,3), dpi=150)\n",
    "ax1.pie(df.groupby('winner_team').size(), labels=('Home', 'Visitor', 'Tie'), explode=(0.1, 0, 0), autopct='%1.1f%%',\n",
    "        shadow=True, startangle=0)\n",
    "ax1.axis('equal')  # Equal aspect ratio ensures that pie is drawn as a circle.\n",
    "\n",
    "plt.show()"
   ]
  },
  {
   "cell_type": "markdown",
   "id": "4a24e6a2",
   "metadata": {},
   "source": [
    "## Exercise 2\n",
    "\n",
    "What are the top ten scoring teams of all time? What are the ten teams that concede the most? Make two bar plot charts showing each of them. Consider only matches played in 1st division. What have been the biggest wins? Of course, when we say biggest we mean those with the highest goal difference. Show the top ten of them in a table."
   ]
  },
  {
   "cell_type": "code",
   "execution_count": 123,
   "id": "69910645",
   "metadata": {},
   "outputs": [
    {
     "data": {
      "text/html": [
       "<div>\n",
       "<style scoped>\n",
       "    .dataframe tbody tr th:only-of-type {\n",
       "        vertical-align: middle;\n",
       "    }\n",
       "\n",
       "    .dataframe tbody tr th {\n",
       "        vertical-align: top;\n",
       "    }\n",
       "\n",
       "    .dataframe thead th {\n",
       "        text-align: right;\n",
       "    }\n",
       "</style>\n",
       "<table border=\"1\" class=\"dataframe\">\n",
       "  <thead>\n",
       "    <tr style=\"text-align: right;\">\n",
       "      <th></th>\n",
       "      <th>score</th>\n",
       "      <th>goal_diff</th>\n",
       "    </tr>\n",
       "    <tr>\n",
       "      <th>team</th>\n",
       "      <th></th>\n",
       "      <th></th>\n",
       "    </tr>\n",
       "  </thead>\n",
       "  <tbody>\n",
       "    <tr>\n",
       "      <th>UD Las Palmas</th>\n",
       "      <td>2606.0</td>\n",
       "      <td>-429.0</td>\n",
       "    </tr>\n",
       "    <tr>\n",
       "      <th>Racing</th>\n",
       "      <td>3492.0</td>\n",
       "      <td>-411.0</td>\n",
       "    </tr>\n",
       "    <tr>\n",
       "      <th>Real Murcia</th>\n",
       "      <td>1520.0</td>\n",
       "      <td>-354.0</td>\n",
       "    </tr>\n",
       "    <tr>\n",
       "      <th>Granada CF</th>\n",
       "      <td>1418.0</td>\n",
       "      <td>-306.0</td>\n",
       "    </tr>\n",
       "    <tr>\n",
       "      <th>CA Osasuna</th>\n",
       "      <td>2576.0</td>\n",
       "      <td>-286.0</td>\n",
       "    </tr>\n",
       "    <tr>\n",
       "      <th>CD Logroñés</th>\n",
       "      <td>774.0</td>\n",
       "      <td>-278.0</td>\n",
       "    </tr>\n",
       "    <tr>\n",
       "      <th>Alavés</th>\n",
       "      <td>1539.0</td>\n",
       "      <td>-264.0</td>\n",
       "    </tr>\n",
       "    <tr>\n",
       "      <th>Real Valladolid</th>\n",
       "      <td>2913.0</td>\n",
       "      <td>-249.0</td>\n",
       "    </tr>\n",
       "    <tr>\n",
       "      <th>Hércules CF</th>\n",
       "      <td>1833.0</td>\n",
       "      <td>-238.0</td>\n",
       "    </tr>\n",
       "    <tr>\n",
       "      <th>CD Castellón</th>\n",
       "      <td>1260.0</td>\n",
       "      <td>-234.0</td>\n",
       "    </tr>\n",
       "  </tbody>\n",
       "</table>\n",
       "</div>"
      ],
      "text/plain": [
       "                  score  goal_diff\n",
       "team                              \n",
       "UD Las Palmas    2606.0     -429.0\n",
       "Racing           3492.0     -411.0\n",
       "Real Murcia      1520.0     -354.0\n",
       "Granada CF       1418.0     -306.0\n",
       "CA Osasuna       2576.0     -286.0\n",
       "CD Logroñés       774.0     -278.0\n",
       "Alavés           1539.0     -264.0\n",
       "Real Valladolid  2913.0     -249.0\n",
       "Hércules CF      1833.0     -238.0\n",
       "CD Castellón     1260.0     -234.0"
      ]
     },
     "execution_count": 123,
     "metadata": {},
     "output_type": "execute_result"
    }
   ],
   "source": [
    "def get_score(result,index):\n",
    "    if(isinstance(result, str)):\n",
    "        score = result.split(\":\")\n",
    "        return int(score[index])\n",
    "    else:\n",
    "        return result\n",
    "\n",
    "df['home_score'] = df.apply(lambda row: get_score(row.score,0), axis=1)\n",
    "df['away_score'] = df.apply(lambda row: get_score(row.score,1), axis=1)\n",
    "df['goal_diff'] = df.apply(lambda row: row.home_score-row.away_score, axis=1)\n",
    "df1 = df[['home_team', 'home_score','goal_diff']].dropna(subset=[\"home_score\"]).rename(columns={'home_team':'team', 'home_score':'score'})\n",
    "df2 = df[['away_team', 'away_score','goal_diff']].dropna(subset=[\"away_score\"]).rename(columns={'away_team':'team', 'away_score':'score'})\n",
    "df2.goal_diff=-df2.goal_diff\n",
    "team_scores = pd.concat([df1,df2], ignore_index=True).groupby('team').sum().sort_values(by='goal_diff', axis=0, ascending=True)\n",
    "team_scores.head(10)"
   ]
  },
  {
   "cell_type": "markdown",
   "id": "14dcde73",
   "metadata": {},
   "source": [
    "## Exercise 3\n",
    "\n",
    "There has been a lot of discussion about how LaLiga’s television rights have changed game schedules in the last years. Make a bar plot chart showing the number of matches played each weekday, and make also a histogram of match time. Compare this two graphics between seasons 2000-2001 and 2020-2021."
   ]
  },
  {
   "cell_type": "code",
   "execution_count": null,
   "id": "e382c82a",
   "metadata": {},
   "outputs": [],
   "source": []
  },
  {
   "cell_type": "markdown",
   "id": "2128a02f",
   "metadata": {},
   "source": [
    "## Exercise 4\n",
    "\n",
    "Build a cross results table for season 2020-2021 (1st division). Figure 1 is an example taken from Wikipedia. Try to make it the most similar to this one: use team abbreviations as column names and paint the background of each cell according to result (green in case local team wins and red in case visitor team wins). Also, could you model the intensity of this background color with the goal difference from the match?\n",
    "\n",
    "<img src=\"../images/cross-results-example.png\" width=400 height=400/>\n",
    "\n",
    "<p style=\"text-align: center;\"> Figure 1: Example of cross results table. </p>\n",
    "\n",
    "Write a function that, given the season and division, plots the cross results table. Function prototype should be like plot_cross_results_table(season, division) and return the plot object.\n"
   ]
  },
  {
   "cell_type": "code",
   "execution_count": null,
   "id": "5544b8a4",
   "metadata": {},
   "outputs": [],
   "source": []
  },
  {
   "cell_type": "markdown",
   "id": "51ca0cd0",
   "metadata": {},
   "source": [
    "## Exercise 5 \n",
    "\n",
    "As you surely know, there has always been a historical rivalry between Barcelona and Real Madrid. But which of them has won the most games in direct confrontations? Which of them has scored the most goals in these games? Show both things in two pie charts, side by side. Remember to consider ties in the first one.\n",
    "\n",
    "Write a function that, given two team names, plots the two graphs described above. Function prototype should be like plot_direct_confrontations_-stats(team1, team2) and return the plot object. Use it with some other classical rivals like Betis and Sevilla."
   ]
  },
  {
   "cell_type": "code",
   "execution_count": null,
   "id": "ab722e53",
   "metadata": {},
   "outputs": [],
   "source": []
  },
  {
   "cell_type": "markdown",
   "id": "c1552d2c",
   "metadata": {},
   "source": [
    "## Exercise 6 \n",
    "\n",
    "Between 1979 and 1980, Real Sociedad managed to chain a total of 38 games without losing. That was, by far, the longest undefeated streak in their history. Which teams have had the longest undefeated streaks? Show the longest \n",
    "undefeated streaks in a horizontal bar plot, indicating in each bar the team name and the dates it held that streak, for instance, Real Sociedad 22/04/1979 - 04/05/1980."
   ]
  },
  {
   "cell_type": "code",
   "execution_count": null,
   "id": "76194174",
   "metadata": {},
   "outputs": [],
   "source": []
  },
  {
   "cell_type": "markdown",
   "id": "7068571d",
   "metadata": {},
   "source": [
    "## Exercise 6\n",
    "\n",
    "Between 1979 and 1980, Real Sociedad managed to chain a total of 38 games without losing. That was, by far, the longest undefeated streak in their history. Which teams have had the longest undefeated streaks? Show the longest undefeated streaks in a horizontal bar plot, indicating in each bar the team name and the dates it held that streak, for instance, Real Sociedad 22/04/1979 - 04/05/1980."
   ]
  },
  {
   "cell_type": "code",
   "execution_count": null,
   "id": "6e0e0942",
   "metadata": {},
   "outputs": [],
   "source": []
  },
  {
   "cell_type": "markdown",
   "id": "b8c545bb",
   "metadata": {},
   "source": [
    "## Exercise 7\n",
    "\n",
    "Create a table with the final standings of each season (and division), that is, a table that contains all the teams ordered (in descending order) by the number of points they got during that season, and some other aggregate statistics. The table must contain the following columns: season, division, ranking, team, GF (total goals scored), GA (total goals conceded), GD (goals difference), W (total wins), L (total loses), T (total ties), Pts (points). Remember that, in football, you earn 3 points per victory, and 1 point per tie (none for loses). In case two teams have same number of points, order by GD (descending), and then by GF (also descending). Order the table so that standings of one season come before standings of previous one, and standings of 1st division come before standings of 2nd division.\n",
    "\n",
    "<img src=\"../images/standings-table-example.png\" width=400 height=400/>\n",
    "\n",
    "<p style=\"text-align: center;\"> Figure 2: Example of how standings table should look like. </p>\n",
    "\n",
    "Save the final table in Excel with the name SeasonStandings.xlsx in the reports/ folder."
   ]
  },
  {
   "cell_type": "code",
   "execution_count": null,
   "id": "d796c1e8",
   "metadata": {},
   "outputs": [],
   "source": []
  },
  {
   "cell_type": "markdown",
   "id": "521fb248",
   "metadata": {},
   "source": [
    "## Exercise 8\n",
    "\n",
    "Villarreal is a team that has grown a lot in recent decades. Specially ever since some billionaire guy bought it (Fernando Roig, from Mercadona). Make a line plot showing the rank of Villarreal at the end of each season, from the oldest ones (left) to the earliest ones (right). Consider rankings in 2nd division to be a continuation of the 1st one, that is, if there’s N teams in 1st division and Villarreal got r position in 2nd division, then it should be placed in N + r. Draw in the same plot a line showing the cut between 1st and 2nd division. \n",
    "\n",
    "Write a function that, given n team names, plots the graph described above of each one of them superposed. Function prototype should be like plot_- ranking_evolution(team1, team2, ..., teamN) and return the plot object (note that function should not take one array-type argument, but n arguments). Use it to compare the evolution of all the teams that currently play in 1st division."
   ]
  },
  {
   "cell_type": "code",
   "execution_count": null,
   "id": "4407b0b0",
   "metadata": {},
   "outputs": [],
   "source": []
  },
  {
   "cell_type": "markdown",
   "id": "20768aa1",
   "metadata": {},
   "source": [
    "## Exercise 9 \n",
    "\n",
    "In football jargon, those teams that are permanently descending and ascending between 1st and 2nd division are called elevator teams. What are the most elevator teams in LaLiga? Plot the history of the top 5 of them using the function from exercise 8."
   ]
  },
  {
   "cell_type": "code",
   "execution_count": null,
   "id": "f5b45480",
   "metadata": {},
   "outputs": [],
   "source": []
  },
  {
   "cell_type": "markdown",
   "id": "65f9270c",
   "metadata": {},
   "source": [
    "## Exercise 10\n",
    "\n",
    "Create a table that is the same as the one in exercise 7, but not only with the season final standings, but the standings at the end of each matchday. Columns are the same, including matchday that tells about which matchday from the season these standings are from. Would you be able to add a new column last_5 with the result of last 5 matches? This column should contain a list like [\"W\", \"L\", \"W\", \"T\", \"T\"]. In this list, the first item is the immediate previous match, the second one is the match before this one, and so on. If there are no 5 previous matches (because matchday < 6, for instance) then just make the list shorter. Save the final table in Excel with the name MatchdayStandings.xlsx in the reports/ folder."
   ]
  },
  {
   "cell_type": "code",
   "execution_count": null,
   "id": "45413328",
   "metadata": {},
   "outputs": [],
   "source": []
  }
 ],
 "metadata": {
  "interpreter": {
   "hash": "22c9d9a9292c0177db89999aea534162431b2f81d70dec0722e5cc7ccc59eff6"
  },
  "kernelspec": {
   "display_name": "Python 3.9.7 64-bit ('.venv': venv)",
   "name": "python3"
  },
  "language_info": {
   "codemirror_mode": {
    "name": "ipython",
    "version": 3
   },
   "file_extension": ".py",
   "mimetype": "text/x-python",
   "name": "python",
   "nbconvert_exporter": "python",
   "pygments_lexer": "ipython3",
   "version": "3.9.7"
  }
 },
 "nbformat": 4,
 "nbformat_minor": 5
}
